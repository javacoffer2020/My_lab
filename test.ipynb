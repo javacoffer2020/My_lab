{
 "cells": [
  {
   "cell_type": "code",
   "execution_count": 21,
   "outputs": [
    {
     "name": "stdout",
     "text": [
      "apriori imported!\n"
     ],
     "output_type": "stream"
    }
   ],
   "source": [
    "import sys\n",
    "import os\n",
    "\n",
    "sys.path.append(r'E:\\PyProjects\\My_lab')\n",
    "os.chdir(r'E:\\PyProjects\\My_lab')\n",
    "import pandas as pd\n",
    "import apriori"
   ],
   "metadata": {
    "collapsed": false,
    "pycharm": {
     "name": "#%%\n",
     "is_executing": false
    }
   }
  },
  {
   "cell_type": "code",
   "execution_count": 22,
   "outputs": [
    {
     "data": {
      "text/plain": "  OrderNumber  LineNumber                 Model\n0     SO51178           1          Mountain-200\n1     SO51178           2  Mountain Bottle Cage\n2     SO51178           3          Water Bottle\n3     SO51184           1          Mountain-200\n4     SO51184           2      HL Mountain Tire",
      "text/html": "<div>\n<style scoped>\n    .dataframe tbody tr th:only-of-type {\n        vertical-align: middle;\n    }\n\n    .dataframe tbody tr th {\n        vertical-align: top;\n    }\n\n    .dataframe thead th {\n        text-align: right;\n    }\n</style>\n<table border=\"1\" class=\"dataframe\">\n  <thead>\n    <tr style=\"text-align: right;\">\n      <th></th>\n      <th>OrderNumber</th>\n      <th>LineNumber</th>\n      <th>Model</th>\n    </tr>\n  </thead>\n  <tbody>\n    <tr>\n      <th>0</th>\n      <td>SO51178</td>\n      <td>1</td>\n      <td>Mountain-200</td>\n    </tr>\n    <tr>\n      <th>1</th>\n      <td>SO51178</td>\n      <td>2</td>\n      <td>Mountain Bottle Cage</td>\n    </tr>\n    <tr>\n      <th>2</th>\n      <td>SO51178</td>\n      <td>3</td>\n      <td>Water Bottle</td>\n    </tr>\n    <tr>\n      <th>3</th>\n      <td>SO51184</td>\n      <td>1</td>\n      <td>Mountain-200</td>\n    </tr>\n    <tr>\n      <th>4</th>\n      <td>SO51184</td>\n      <td>2</td>\n      <td>HL Mountain Tire</td>\n    </tr>\n  </tbody>\n</table>\n</div>"
     },
     "metadata": {},
     "output_type": "execute_result",
     "execution_count": 22
    }
   ],
   "source": [
    "transactions = pd.read_csv('Transactions.csv')\n",
    "transactions.head()"
   ],
   "metadata": {
    "collapsed": false,
    "pycharm": {
     "name": "#%%\n",
     "is_executing": false
    }
   }
  },
  {
   "cell_type": "code",
   "execution_count": 23,
   "outputs": [
    {
     "data": {
      "text/plain": "OrderNumber\nSO51176                         [Road-250, Road Bottle Cage]\nSO51177                            [Sport-100, Touring-2000]\nSO51178    [Mountain-200, Mountain Bottle Cage, Water Bot...\nSO51179    [All-Purpose Bike Stand, Road Tire Tube, HL Ro...\nSO51180    [Road-250, Road Bottle Cage, Water Bottle, Spo...\nName: Model, dtype: object"
     },
     "metadata": {},
     "output_type": "execute_result",
     "execution_count": 23
    }
   ],
   "source": [
    "baskets = transactions['Model'].groupby(transactions['OrderNumber']).apply(list)\n",
    "baskets.head()"
   ],
   "metadata": {
    "collapsed": false,
    "pycharm": {
     "name": "#%%\n",
     "is_executing": false
    }
   }
  },
  {
   "cell_type": "code",
   "execution_count": 28,
   "outputs": [],
   "source": [
    "dataSet = baskets.tolist()\n"
   ],
   "metadata": {
    "collapsed": false,
    "pycharm": {
     "name": "#%%\n",
     "is_executing": false
    }
   }
  }
 ],
 "metadata": {
  "kernelspec": {
   "name": "pycharm-d2e8c901",
   "language": "python",
   "display_name": "PyCharm (My_lab)"
  },
  "language_info": {
   "codemirror_mode": {
    "name": "ipython",
    "version": 2
   },
   "file_extension": ".py",
   "mimetype": "text/x-python",
   "name": "python",
   "nbconvert_exporter": "python",
   "pygments_lexer": "ipython2",
   "version": "2.7.6"
  },
  "pycharm": {
   "stem_cell": {
    "cell_type": "raw",
    "source": [],
    "metadata": {
     "collapsed": false
    }
   }
  }
 },
 "nbformat": 4,
 "nbformat_minor": 0
}