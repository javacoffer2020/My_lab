{
 "cells": [
  {
   "cell_type": "code",
   "execution_count": 1,
   "metadata": {
    "ExecuteTime": {
     "end_time": "2020-03-18T21:02:38.667986Z",
     "start_time": "2020-03-18T21:02:38.456680Z"
    },
    "pycharm": {
     "is_executing": false
    }
   },
   "outputs": [],
   "source": [
    "import pandas as pd\n",
    "\n",
    "dataSet = [['A','C','D'],\n",
    "          ['B','C','E'],\n",
    "          ['A','B','C','E'],\n",
    "          ['B','E']]\n"
   ]
  },
  {
   "cell_type": "code",
   "execution_count": 2,
   "metadata": {
    "ExecuteTime": {
     "end_time": "2020-03-18T21:02:39.010087Z",
     "start_time": "2020-03-18T21:02:38.996133Z"
    },
    "pycharm": {
     "is_executing": false
    }
   },
   "outputs": [],
   "source": [
    "import itertools\n",
    "\n",
    "def createC1(dataSet):\n",
    "    C1 = set(itertools.chain(*dataSet))\n",
    "    \n",
    "    return [frozenset([i]) for i in C1]"
   ]
  },
  {
   "cell_type": "code",
   "execution_count": 3,
   "metadata": {
    "ExecuteTime": {
     "end_time": "2020-03-18T21:02:39.548365Z",
     "start_time": "2020-03-18T21:02:39.531283Z"
    },
    "pycharm": {
     "is_executing": false
    }
   },
   "outputs": [
    {
     "data": {
      "text/plain": "[frozenset({'A'}),\n frozenset({'B'}),\n frozenset({'D'}),\n frozenset({'C'}),\n frozenset({'E'})]"
     },
     "metadata": {},
     "output_type": "execute_result",
     "execution_count": 3
    }
   ],
   "source": [
    "C1 = createC1(dataSet)\n",
    "list(C1)[:5]"
   ]
  },
  {
   "cell_type": "code",
   "execution_count": 4,
   "metadata": {
    "ExecuteTime": {
     "end_time": "2020-03-18T21:02:40.252860Z",
     "start_time": "2020-03-18T21:02:40.244831Z"
    },
    "pycharm": {
     "is_executing": false
    }
   },
   "outputs": [],
   "source": [
    "def scanD(dataSet, Ck, min_support):\n",
    "    support = {}\n",
    "    \n",
    "    for i in dataSet:\n",
    "        for j in Ck:\n",
    "            if j.issubset(i):\n",
    "                support[j] = support.get(j, 0) + 1\n",
    "                \n",
    "    n = len(dataSet)\n",
    "    return{k: v/n for k, v in support.items() if v/n >= min_support}\n"
   ]
  },
  {
   "cell_type": "code",
   "execution_count": 5,
   "metadata": {
    "ExecuteTime": {
     "end_time": "2020-03-18T21:02:41.021995Z",
     "start_time": "2020-03-18T21:02:41.011543Z"
    },
    "pycharm": {
     "is_executing": false
    }
   },
   "outputs": [
    {
     "data": {
      "text/plain": "{frozenset({'A'}): 0.5,\n frozenset({'C'}): 0.75,\n frozenset({'B'}): 0.75,\n frozenset({'E'}): 0.75}"
     },
     "metadata": {},
     "output_type": "execute_result",
     "execution_count": 5
    }
   ],
   "source": [
    "min_support = 0.4\n",
    "L1 = scanD(dataSet, C1, min_support)\n",
    "L1"
   ]
  },
  {
   "cell_type": "code",
   "execution_count": 10,
   "metadata": {
    "ExecuteTime": {
     "end_time": "2020-03-18T21:02:45.261200Z",
     "start_time": "2020-03-18T21:02:45.254403Z"
    },
    "pycharm": {
     "is_executing": false
    }
   },
   "outputs": [],
   "source": [
    "def aprioriGen(Lk):\n",
    "    lenLk = len(Lk)\n",
    "    k = len(Lk[0])\n",
    "    print(lenLk, k)\n",
    "    if lenLk > 1 and k > 0:\n",
    "        return set([Lk[i].union(Lk[j])\n",
    "                    for i in range(lenLk - 1)\n",
    "                    for j in range(i + 1, lenLk)\n",
    "                    if len(Lk[i] | Lk[j]) == k+1\n",
    "                ])"
   ]
  },
  {
   "cell_type": "code",
   "execution_count": 12,
   "metadata": {
    "ExecuteTime": {
     "start_time": "2020-03-18T21:04:52.668Z"
    },
    "scrolled": true,
    "pycharm": {
     "is_executing": false
    }
   },
   "outputs": [
    {
     "name": "stdout",
     "text": [
      "4 1\n"
     ],
     "output_type": "stream"
    },
    {
     "data": {
      "text/plain": "{frozenset({'B', 'E'}),\n frozenset({'A', 'B'}),\n frozenset({'B', 'C'}),\n frozenset({'A', 'E'}),\n frozenset({'C', 'E'}),\n frozenset({'A', 'C'})}"
     },
     "metadata": {},
     "output_type": "execute_result",
     "execution_count": 12
    }
   ],
   "source": [
    "C2 = aprioriGen(list(L1.keys()))\n",
    "C2"
   ]
  },
  {
   "cell_type": "code",
   "execution_count": 8,
   "metadata": {
    "ExecuteTime": {
     "end_time": "2020-03-17T05:43:39.145895Z",
     "start_time": "2020-03-17T05:43:39.136922Z"
    }
   },
   "outputs": [
    {
     "data": {
      "text/plain": [
       "{frozenset({'A', 'C'}): 0.5,\n",
       " frozenset({'B', 'E'}): 0.75,\n",
       " frozenset({'B', 'C'}): 0.5,\n",
       " frozenset({'C', 'E'}): 0.5}"
      ]
     },
     "execution_count": 8,
     "metadata": {},
     "output_type": "execute_result"
    }
   ],
   "source": [
    "min_support = 0.4\n",
    "L2 = scanD(dataSet, C2, min_support)\n",
    "L2"
   ]
  },
  {
   "cell_type": "code",
   "execution_count": 9,
   "metadata": {
    "ExecuteTime": {
     "end_time": "2020-03-17T05:43:39.158863Z",
     "start_time": "2020-03-17T05:43:39.147891Z"
    }
   },
   "outputs": [],
   "source": [
    "def apriori(dataSet, min_support=0.5):\n",
    "    C1 = createC1(dataSet)\n",
    "    L1 = scanD(dataSet, C1, min_support)\n",
    "    L = [L1, ]\n",
    "    k = 2\n",
    "    while len(L[k-2]) > 1:\n",
    "        Ck = aprioriGen(list(L[k-2].keys()))\n",
    "        Lk = scanD(dataSet, Ck, min_support)\n",
    "        if len(Lk) > 0:\n",
    "            L.append(Lk)\n",
    "            k += 1\n",
    "        else:\n",
    "            break\n",
    "    d = {}\n",
    "    for Lk in L:\n",
    "        d.update(Lk)\n",
    "    return d"
   ]
  },
  {
   "cell_type": "code",
   "execution_count": 10,
   "metadata": {
    "ExecuteTime": {
     "end_time": "2020-03-17T05:43:39.175816Z",
     "start_time": "2020-03-17T05:43:39.163848Z"
    }
   },
   "outputs": [
    {
     "name": "stdout",
     "output_type": "stream",
     "text": [
      "4 1\n",
      "4 2\n"
     ]
    },
    {
     "data": {
      "text/plain": [
       "{frozenset({'A'}): 0.5,\n",
       " frozenset({'C'}): 0.75,\n",
       " frozenset({'E'}): 0.75,\n",
       " frozenset({'B'}): 0.75,\n",
       " frozenset({'A', 'C'}): 0.5,\n",
       " frozenset({'B', 'E'}): 0.75,\n",
       " frozenset({'B', 'C'}): 0.5,\n",
       " frozenset({'C', 'E'}): 0.5,\n",
       " frozenset({'B', 'C', 'E'}): 0.5}"
      ]
     },
     "execution_count": 10,
     "metadata": {},
     "output_type": "execute_result"
    }
   ],
   "source": [
    "L = apriori(dataSet, min_support)\n",
    "L"
   ]
  },
  {
   "cell_type": "code",
   "execution_count": 11,
   "metadata": {
    "ExecuteTime": {
     "end_time": "2020-03-17T05:43:39.189779Z",
     "start_time": "2020-03-17T05:43:39.179807Z"
    }
   },
   "outputs": [],
   "source": [
    "def rulesGen(iterable):\n",
    "    subSet = []\n",
    "    for i in range(1, len(iterable)):\n",
    "        subSet.extend(itertools.combinations(iterable, i))\n",
    "        \n",
    "    return [(frozenset(lhs), frozenset(iterable.difference(lhs))) for lhs in subSet]"
   ]
  },
  {
   "cell_type": "code",
   "execution_count": 12,
   "metadata": {
    "ExecuteTime": {
     "end_time": "2020-03-17T05:43:39.202744Z",
     "start_time": "2020-03-17T05:43:39.192771Z"
    }
   },
   "outputs": [],
   "source": [
    "def arules(dataSet, min_support=0.5):\n",
    "    L = apriori(dataSet, min_support)\n",
    "\n",
    "    rules = []\n",
    "    for Lk in L.keys():\n",
    "        if len(Lk) > 1:\n",
    "            rules.extend(rulesGen(Lk))\n",
    "    \n",
    "    scl = []\n",
    "    for rule in rules:\n",
    "        lhs = rule[0]; rhs = rule[1]\n",
    "        support = L[lhs | rhs]\n",
    "        confidence = support / L[lhs]\n",
    "        lift = confidence / L[rhs]\n",
    "        scl.append({'LHS':lhs, 'RHS':rhs, 'support':support, 'confidence':confidence, 'lift':lift})\n",
    "    \n",
    "    return pd.DataFrame(scl)"
   ]
  },
  {
   "cell_type": "code",
   "execution_count": 14,
   "metadata": {
    "ExecuteTime": {
     "end_time": "2020-03-17T05:45:56.903282Z",
     "start_time": "2020-03-17T05:45:56.877378Z"
    }
   },
   "outputs": [
    {
     "name": "stdout",
     "output_type": "stream",
     "text": [
      "4 1\n",
      "4 2\n"
     ]
    },
    {
     "data": {
      "text/html": [
       "<div>\n",
       "<style scoped>\n",
       "    .dataframe tbody tr th:only-of-type {\n",
       "        vertical-align: middle;\n",
       "    }\n",
       "\n",
       "    .dataframe tbody tr th {\n",
       "        vertical-align: top;\n",
       "    }\n",
       "\n",
       "    .dataframe thead th {\n",
       "        text-align: right;\n",
       "    }\n",
       "</style>\n",
       "<table border=\"1\" class=\"dataframe\">\n",
       "  <thead>\n",
       "    <tr style=\"text-align: right;\">\n",
       "      <th></th>\n",
       "      <th>LHS</th>\n",
       "      <th>RHS</th>\n",
       "      <th>support</th>\n",
       "      <th>confidence</th>\n",
       "      <th>lift</th>\n",
       "    </tr>\n",
       "  </thead>\n",
       "  <tbody>\n",
       "    <tr>\n",
       "      <th>0</th>\n",
       "      <td>(A)</td>\n",
       "      <td>(C)</td>\n",
       "      <td>0.50</td>\n",
       "      <td>1.000000</td>\n",
       "      <td>1.333333</td>\n",
       "    </tr>\n",
       "    <tr>\n",
       "      <th>1</th>\n",
       "      <td>(C)</td>\n",
       "      <td>(A)</td>\n",
       "      <td>0.50</td>\n",
       "      <td>0.666667</td>\n",
       "      <td>1.333333</td>\n",
       "    </tr>\n",
       "    <tr>\n",
       "      <th>2</th>\n",
       "      <td>(B)</td>\n",
       "      <td>(E)</td>\n",
       "      <td>0.75</td>\n",
       "      <td>1.000000</td>\n",
       "      <td>1.333333</td>\n",
       "    </tr>\n",
       "    <tr>\n",
       "      <th>3</th>\n",
       "      <td>(E)</td>\n",
       "      <td>(B)</td>\n",
       "      <td>0.75</td>\n",
       "      <td>1.000000</td>\n",
       "      <td>1.333333</td>\n",
       "    </tr>\n",
       "    <tr>\n",
       "      <th>4</th>\n",
       "      <td>(B)</td>\n",
       "      <td>(C)</td>\n",
       "      <td>0.50</td>\n",
       "      <td>0.666667</td>\n",
       "      <td>0.888889</td>\n",
       "    </tr>\n",
       "    <tr>\n",
       "      <th>5</th>\n",
       "      <td>(C)</td>\n",
       "      <td>(B)</td>\n",
       "      <td>0.50</td>\n",
       "      <td>0.666667</td>\n",
       "      <td>0.888889</td>\n",
       "    </tr>\n",
       "    <tr>\n",
       "      <th>6</th>\n",
       "      <td>(E)</td>\n",
       "      <td>(C)</td>\n",
       "      <td>0.50</td>\n",
       "      <td>0.666667</td>\n",
       "      <td>0.888889</td>\n",
       "    </tr>\n",
       "    <tr>\n",
       "      <th>7</th>\n",
       "      <td>(C)</td>\n",
       "      <td>(E)</td>\n",
       "      <td>0.50</td>\n",
       "      <td>0.666667</td>\n",
       "      <td>0.888889</td>\n",
       "    </tr>\n",
       "    <tr>\n",
       "      <th>8</th>\n",
       "      <td>(B)</td>\n",
       "      <td>(E, C)</td>\n",
       "      <td>0.50</td>\n",
       "      <td>0.666667</td>\n",
       "      <td>1.333333</td>\n",
       "    </tr>\n",
       "    <tr>\n",
       "      <th>9</th>\n",
       "      <td>(E)</td>\n",
       "      <td>(B, C)</td>\n",
       "      <td>0.50</td>\n",
       "      <td>0.666667</td>\n",
       "      <td>1.333333</td>\n",
       "    </tr>\n",
       "    <tr>\n",
       "      <th>10</th>\n",
       "      <td>(C)</td>\n",
       "      <td>(B, E)</td>\n",
       "      <td>0.50</td>\n",
       "      <td>0.666667</td>\n",
       "      <td>0.888889</td>\n",
       "    </tr>\n",
       "    <tr>\n",
       "      <th>11</th>\n",
       "      <td>(B, E)</td>\n",
       "      <td>(C)</td>\n",
       "      <td>0.50</td>\n",
       "      <td>0.666667</td>\n",
       "      <td>0.888889</td>\n",
       "    </tr>\n",
       "    <tr>\n",
       "      <th>12</th>\n",
       "      <td>(B, C)</td>\n",
       "      <td>(E)</td>\n",
       "      <td>0.50</td>\n",
       "      <td>1.000000</td>\n",
       "      <td>1.333333</td>\n",
       "    </tr>\n",
       "    <tr>\n",
       "      <th>13</th>\n",
       "      <td>(E, C)</td>\n",
       "      <td>(B)</td>\n",
       "      <td>0.50</td>\n",
       "      <td>1.000000</td>\n",
       "      <td>1.333333</td>\n",
       "    </tr>\n",
       "  </tbody>\n",
       "</table>\n",
       "</div>"
      ],
      "text/plain": [
       "       LHS     RHS  support  confidence      lift\n",
       "0      (A)     (C)     0.50    1.000000  1.333333\n",
       "1      (C)     (A)     0.50    0.666667  1.333333\n",
       "2      (B)     (E)     0.75    1.000000  1.333333\n",
       "3      (E)     (B)     0.75    1.000000  1.333333\n",
       "4      (B)     (C)     0.50    0.666667  0.888889\n",
       "5      (C)     (B)     0.50    0.666667  0.888889\n",
       "6      (E)     (C)     0.50    0.666667  0.888889\n",
       "7      (C)     (E)     0.50    0.666667  0.888889\n",
       "8      (B)  (E, C)     0.50    0.666667  1.333333\n",
       "9      (E)  (B, C)     0.50    0.666667  1.333333\n",
       "10     (C)  (B, E)     0.50    0.666667  0.888889\n",
       "11  (B, E)     (C)     0.50    0.666667  0.888889\n",
       "12  (B, C)     (E)     0.50    1.000000  1.333333\n",
       "13  (E, C)     (B)     0.50    1.000000  1.333333"
      ]
     },
     "execution_count": 14,
     "metadata": {},
     "output_type": "execute_result"
    }
   ],
   "source": [
    "res = arules(dataSet, 0.4)\n",
    "res"
   ]
  },
  {
   "cell_type": "code",
   "execution_count": 30,
   "metadata": {
    "ExecuteTime": {
     "end_time": "2020-03-17T06:11:54.037199Z",
     "start_time": "2020-03-17T06:11:53.351188Z"
    }
   },
   "outputs": [
    {
     "ename": "AttributeError",
     "evalue": "'DataFrame' object has no attribute 'reindex_axis'",
     "output_type": "error",
     "traceback": [
      "\u001b[1;31m---------------------------------------------------------------------------\u001b[0m",
      "\u001b[1;31mAttributeError\u001b[0m                            Traceback (most recent call last)",
      "\u001b[1;32m<ipython-input-30-a7d4671de381>\u001b[0m in \u001b[0;36m<module>\u001b[1;34m\u001b[0m\n\u001b[1;32m----> 1\u001b[1;33m \u001b[0mrules\u001b[0m \u001b[1;33m=\u001b[0m \u001b[0mApriori\u001b[0m\u001b[1;33m.\u001b[0m\u001b[0marules\u001b[0m\u001b[1;33m(\u001b[0m\u001b[0mdataSet\u001b[0m\u001b[1;33m,\u001b[0m \u001b[0mmin_support\u001b[0m\u001b[1;33m)\u001b[0m\u001b[1;33m\u001b[0m\u001b[0m\n\u001b[0m",
      "\u001b[1;32mE:\\jupyter\\Jupyter_EX\\Apriori.py\u001b[0m in \u001b[0;36marules\u001b[1;34m(dataset, minSupport, minConf, minlen, maxlen)\u001b[0m\n\u001b[0;32m    133\u001b[0m \u001b[1;33m\u001b[0m\u001b[0m\n\u001b[0;32m    134\u001b[0m     \u001b[0mres\u001b[0m\u001b[1;33m=\u001b[0m\u001b[0mpd\u001b[0m\u001b[1;33m.\u001b[0m\u001b[0mDataFrame\u001b[0m\u001b[1;33m(\u001b[0m\u001b[0mtemp\u001b[0m\u001b[1;33m)\u001b[0m\u001b[1;33m\u001b[0m\u001b[0m\n\u001b[1;32m--> 135\u001b[1;33m     \u001b[0mres\u001b[0m\u001b[1;33m=\u001b[0m\u001b[0mres\u001b[0m\u001b[1;33m.\u001b[0m\u001b[0mreindex_axis\u001b[0m\u001b[1;33m(\u001b[0m\u001b[1;33m[\u001b[0m\u001b[1;34m'lhs'\u001b[0m\u001b[1;33m,\u001b[0m\u001b[1;34m''\u001b[0m\u001b[1;33m,\u001b[0m\u001b[1;34m'rhs'\u001b[0m\u001b[1;33m,\u001b[0m\u001b[1;34m'support'\u001b[0m\u001b[1;33m,\u001b[0m\u001b[1;34m'confidence'\u001b[0m\u001b[1;33m,\u001b[0m\u001b[1;34m'lift'\u001b[0m\u001b[1;33m]\u001b[0m\u001b[1;33m,\u001b[0m\u001b[0maxis\u001b[0m\u001b[1;33m=\u001b[0m\u001b[1;36m1\u001b[0m\u001b[1;33m)\u001b[0m\u001b[1;33m\u001b[0m\u001b[0m\n\u001b[0m\u001b[0;32m    136\u001b[0m \u001b[1;33m\u001b[0m\u001b[0m\n\u001b[0;32m    137\u001b[0m     \u001b[1;32mreturn\u001b[0m \u001b[0mres\u001b[0m\u001b[1;33m\u001b[0m\u001b[0m\n",
      "\u001b[1;32me:\\python\\python37\\lib\\site-packages\\pandas\\core\\generic.py\u001b[0m in \u001b[0;36m__getattr__\u001b[1;34m(self, name)\u001b[0m\n\u001b[0;32m   5177\u001b[0m             \u001b[1;32mif\u001b[0m \u001b[0mself\u001b[0m\u001b[1;33m.\u001b[0m\u001b[0m_info_axis\u001b[0m\u001b[1;33m.\u001b[0m\u001b[0m_can_hold_identifiers_and_holds_name\u001b[0m\u001b[1;33m(\u001b[0m\u001b[0mname\u001b[0m\u001b[1;33m)\u001b[0m\u001b[1;33m:\u001b[0m\u001b[1;33m\u001b[0m\u001b[0m\n\u001b[0;32m   5178\u001b[0m                 \u001b[1;32mreturn\u001b[0m \u001b[0mself\u001b[0m\u001b[1;33m[\u001b[0m\u001b[0mname\u001b[0m\u001b[1;33m]\u001b[0m\u001b[1;33m\u001b[0m\u001b[0m\n\u001b[1;32m-> 5179\u001b[1;33m             \u001b[1;32mreturn\u001b[0m \u001b[0mobject\u001b[0m\u001b[1;33m.\u001b[0m\u001b[0m__getattribute__\u001b[0m\u001b[1;33m(\u001b[0m\u001b[0mself\u001b[0m\u001b[1;33m,\u001b[0m \u001b[0mname\u001b[0m\u001b[1;33m)\u001b[0m\u001b[1;33m\u001b[0m\u001b[0m\n\u001b[0m\u001b[0;32m   5180\u001b[0m \u001b[1;33m\u001b[0m\u001b[0m\n\u001b[0;32m   5181\u001b[0m     \u001b[1;32mdef\u001b[0m \u001b[0m__setattr__\u001b[0m\u001b[1;33m(\u001b[0m\u001b[0mself\u001b[0m\u001b[1;33m,\u001b[0m \u001b[0mname\u001b[0m\u001b[1;33m,\u001b[0m \u001b[0mvalue\u001b[0m\u001b[1;33m)\u001b[0m\u001b[1;33m:\u001b[0m\u001b[1;33m\u001b[0m\u001b[0m\n",
      "\u001b[1;31mAttributeError\u001b[0m: 'DataFrame' object has no attribute 'reindex_axis'"
     ]
    }
   ],
   "source": [
    "rules = Apriori.arules(dataSet, min_support)"
   ]
  },
  {
   "cell_type": "code",
   "execution_count": null,
   "metadata": {},
   "outputs": [],
   "source": []
  }
 ],
 "metadata": {
  "kernelspec": {
   "display_name": "Python 3",
   "language": "python",
   "name": "python3"
  },
  "language_info": {
   "codemirror_mode": {
    "name": "ipython",
    "version": 3
   },
   "file_extension": ".py",
   "mimetype": "text/x-python",
   "name": "python",
   "nbconvert_exporter": "python",
   "pygments_lexer": "ipython3",
   "version": "3.7.4"
  },
  "nbTranslate": {
   "displayLangs": [
    "*"
   ],
   "hotkey": "alt-t",
   "langInMainMenu": true,
   "sourceLang": "en",
   "targetLang": "fr",
   "useGoogleTranslate": true
  },
  "toc": {
   "base_numbering": 1,
   "nav_menu": {},
   "number_sections": true,
   "sideBar": true,
   "skip_h1_title": false,
   "title_cell": "Table of Contents",
   "title_sidebar": "Contents",
   "toc_cell": false,
   "toc_position": {},
   "toc_section_display": true,
   "toc_window_display": false
  },
  "varInspector": {
   "cols": {
    "lenName": 16,
    "lenType": 16,
    "lenVar": 40
   },
   "kernels_config": {
    "python": {
     "delete_cmd_postfix": "",
     "delete_cmd_prefix": "del ",
     "library": "var_list.py",
     "varRefreshCmd": "print(var_dic_list())"
    },
    "r": {
     "delete_cmd_postfix": ") ",
     "delete_cmd_prefix": "rm(",
     "library": "var_list.r",
     "varRefreshCmd": "cat(var_dic_list()) "
    }
   },
   "position": {
    "height": "349.85px",
    "left": "1019px",
    "right": "20px",
    "top": "161px",
    "width": "571px"
   },
   "types_to_exclude": [
    "module",
    "function",
    "builtin_function_or_method",
    "instance",
    "_Feature"
   ],
   "window_display": false
  },
  "pycharm": {
   "stem_cell": {
    "cell_type": "raw",
    "source": [],
    "metadata": {
     "collapsed": false
    }
   }
  }
 },
 "nbformat": 4,
 "nbformat_minor": 4
}