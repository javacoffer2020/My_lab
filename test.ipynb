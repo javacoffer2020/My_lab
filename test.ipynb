{
 "cells": [
  {
   "cell_type": "code",
   "execution_count": 1,
   "outputs": [
    {
     "name": "stdout",
     "text": [
      "apriori imported!\n"
     ],
     "output_type": "stream"
    }
   ],
   "source": [
    "import sys\n",
    "import os\n",
    "\n",
    "sys.path.append(r'E:\\PyProjects\\My_lab')\n",
    "os.chdir(r'E:\\PyProjects\\My_lab')\n",
    "import pandas as pd\n",
    "import apriori"
   ],
   "metadata": {
    "collapsed": false,
    "pycharm": {
     "name": "#%%\n",
     "is_executing": false
    }
   }
  },
  {
   "cell_type": "code",
   "execution_count": 2,
   "outputs": [
    {
     "data": {
      "text/plain": "  OrderNumber  LineNumber                 Model\n0     SO51178           1          Mountain-200\n1     SO51178           2  Mountain Bottle Cage\n2     SO51178           3          Water Bottle\n3     SO51184           1          Mountain-200\n4     SO51184           2      HL Mountain Tire",
      "text/html": "<div>\n<style scoped>\n    .dataframe tbody tr th:only-of-type {\n        vertical-align: middle;\n    }\n\n    .dataframe tbody tr th {\n        vertical-align: top;\n    }\n\n    .dataframe thead th {\n        text-align: right;\n    }\n</style>\n<table border=\"1\" class=\"dataframe\">\n  <thead>\n    <tr style=\"text-align: right;\">\n      <th></th>\n      <th>OrderNumber</th>\n      <th>LineNumber</th>\n      <th>Model</th>\n    </tr>\n  </thead>\n  <tbody>\n    <tr>\n      <th>0</th>\n      <td>SO51178</td>\n      <td>1</td>\n      <td>Mountain-200</td>\n    </tr>\n    <tr>\n      <th>1</th>\n      <td>SO51178</td>\n      <td>2</td>\n      <td>Mountain Bottle Cage</td>\n    </tr>\n    <tr>\n      <th>2</th>\n      <td>SO51178</td>\n      <td>3</td>\n      <td>Water Bottle</td>\n    </tr>\n    <tr>\n      <th>3</th>\n      <td>SO51184</td>\n      <td>1</td>\n      <td>Mountain-200</td>\n    </tr>\n    <tr>\n      <th>4</th>\n      <td>SO51184</td>\n      <td>2</td>\n      <td>HL Mountain Tire</td>\n    </tr>\n  </tbody>\n</table>\n</div>"
     },
     "metadata": {},
     "output_type": "execute_result",
     "execution_count": 2
    }
   ],
   "source": [
    "transactions = pd.read_csv('Transactions.csv')\n",
    "transactions.head()"
   ],
   "metadata": {
    "collapsed": false,
    "pycharm": {
     "name": "#%%\n",
     "is_executing": false
    }
   }
  },
  {
   "cell_type": "code",
   "execution_count": 3,
   "outputs": [
    {
     "data": {
      "text/plain": "OrderNumber\nSO51176                         [Road-250, Road Bottle Cage]\nSO51177                            [Sport-100, Touring-2000]\nSO51178    [Mountain-200, Mountain Bottle Cage, Water Bot...\nSO51179    [All-Purpose Bike Stand, Road Tire Tube, HL Ro...\nSO51180    [Road-250, Road Bottle Cage, Water Bottle, Spo...\nName: Model, dtype: object"
     },
     "metadata": {},
     "output_type": "execute_result",
     "execution_count": 3
    }
   ],
   "source": [
    "baskets = transactions['Model'].groupby(transactions['OrderNumber']).apply(list)\n",
    "baskets.head()"
   ],
   "metadata": {
    "collapsed": false,
    "pycharm": {
     "name": "#%%\n",
     "is_executing": false
    }
   }
  },
  {
   "cell_type": "code",
   "execution_count": 4,
   "outputs": [],
   "source": [
    "dataSet = baskets.tolist()"
   ],
   "metadata": {
    "collapsed": false,
    "pycharm": {
     "name": "#%%\n",
     "is_executing": false
    }
   }
  },
  {
   "cell_type": "code",
   "execution_count": 5,
   "outputs": [
    {
     "data": {
      "text/plain": "                      LHS                     RHS   support  confidence  \\\n0  (Mountain Bottle Cage)          (Water Bottle)  0.076359    0.836167   \n1          (Water Bottle)  (Mountain Bottle Cage)  0.076359    0.398184   \n2          (Water Bottle)          (Mountain-200)  0.027711    0.144504   \n3          (Mountain-200)          (Water Bottle)  0.027711    0.237788   \n4  (Mountain Bottle Cage)          (Mountain-200)  0.034110    0.373519   \n\n       lift  \n0  4.360336  \n1  4.360336  \n2  1.239984  \n3  1.239984  \n4  3.205144  ",
      "text/html": "<div>\n<style scoped>\n    .dataframe tbody tr th:only-of-type {\n        vertical-align: middle;\n    }\n\n    .dataframe tbody tr th {\n        vertical-align: top;\n    }\n\n    .dataframe thead th {\n        text-align: right;\n    }\n</style>\n<table border=\"1\" class=\"dataframe\">\n  <thead>\n    <tr style=\"text-align: right;\">\n      <th></th>\n      <th>LHS</th>\n      <th>RHS</th>\n      <th>support</th>\n      <th>confidence</th>\n      <th>lift</th>\n    </tr>\n  </thead>\n  <tbody>\n    <tr>\n      <th>0</th>\n      <td>(Mountain Bottle Cage)</td>\n      <td>(Water Bottle)</td>\n      <td>0.076359</td>\n      <td>0.836167</td>\n      <td>4.360336</td>\n    </tr>\n    <tr>\n      <th>1</th>\n      <td>(Water Bottle)</td>\n      <td>(Mountain Bottle Cage)</td>\n      <td>0.076359</td>\n      <td>0.398184</td>\n      <td>4.360336</td>\n    </tr>\n    <tr>\n      <th>2</th>\n      <td>(Water Bottle)</td>\n      <td>(Mountain-200)</td>\n      <td>0.027711</td>\n      <td>0.144504</td>\n      <td>1.239984</td>\n    </tr>\n    <tr>\n      <th>3</th>\n      <td>(Mountain-200)</td>\n      <td>(Water Bottle)</td>\n      <td>0.027711</td>\n      <td>0.237788</td>\n      <td>1.239984</td>\n    </tr>\n    <tr>\n      <th>4</th>\n      <td>(Mountain Bottle Cage)</td>\n      <td>(Mountain-200)</td>\n      <td>0.034110</td>\n      <td>0.373519</td>\n      <td>3.205144</td>\n    </tr>\n  </tbody>\n</table>\n</div>"
     },
     "metadata": {},
     "output_type": "execute_result",
     "execution_count": 5
    }
   ],
   "source": [
    "rules = apriori.arules(dataSet, min_support=0.02)\n",
    "rules.head()"
   ],
   "metadata": {
    "collapsed": false,
    "pycharm": {
     "name": "#%%\n",
     "is_executing": false
    }
   }
  },
  {
   "cell_type": "code",
   "execution_count": 6,
   "outputs": [
    {
     "data": {
      "text/plain": "                                  LHS                   RHS   support  \\\n69  (Sport-100, Mountain Bottle Cage)        (Water Bottle)  0.020983   \n59                 (LL Mountain Tire)  (Mountain Tire Tube)  0.021077   \n76           (Water Bottle, Road-750)    (Road Bottle Cage)  0.022818   \n77       (Road Bottle Cage, Road-750)        (Water Bottle)  0.022818   \n52                     (LL Road Tire)      (Road Tire Tube)  0.024277   \n\n    confidence       lift  \n69    0.838346   4.371698  \n59    0.560701   4.098245  \n76    1.000000  12.488249  \n77    0.867621   4.524357  \n52    0.526531   5.050274  ",
      "text/html": "<div>\n<style scoped>\n    .dataframe tbody tr th:only-of-type {\n        vertical-align: middle;\n    }\n\n    .dataframe tbody tr th {\n        vertical-align: top;\n    }\n\n    .dataframe thead th {\n        text-align: right;\n    }\n</style>\n<table border=\"1\" class=\"dataframe\">\n  <thead>\n    <tr style=\"text-align: right;\">\n      <th></th>\n      <th>LHS</th>\n      <th>RHS</th>\n      <th>support</th>\n      <th>confidence</th>\n      <th>lift</th>\n    </tr>\n  </thead>\n  <tbody>\n    <tr>\n      <th>69</th>\n      <td>(Sport-100, Mountain Bottle Cage)</td>\n      <td>(Water Bottle)</td>\n      <td>0.020983</td>\n      <td>0.838346</td>\n      <td>4.371698</td>\n    </tr>\n    <tr>\n      <th>59</th>\n      <td>(LL Mountain Tire)</td>\n      <td>(Mountain Tire Tube)</td>\n      <td>0.021077</td>\n      <td>0.560701</td>\n      <td>4.098245</td>\n    </tr>\n    <tr>\n      <th>76</th>\n      <td>(Water Bottle, Road-750)</td>\n      <td>(Road Bottle Cage)</td>\n      <td>0.022818</td>\n      <td>1.000000</td>\n      <td>12.488249</td>\n    </tr>\n    <tr>\n      <th>77</th>\n      <td>(Road Bottle Cage, Road-750)</td>\n      <td>(Water Bottle)</td>\n      <td>0.022818</td>\n      <td>0.867621</td>\n      <td>4.524357</td>\n    </tr>\n    <tr>\n      <th>52</th>\n      <td>(LL Road Tire)</td>\n      <td>(Road Tire Tube)</td>\n      <td>0.024277</td>\n      <td>0.526531</td>\n      <td>5.050274</td>\n    </tr>\n  </tbody>\n</table>\n</div>"
     },
     "metadata": {},
     "output_type": "execute_result",
     "execution_count": 6
    }
   ],
   "source": [
    "conf = rules[(rules.confidence > 0.5) & (rules.lift > 1)]\n",
    "conf.sort_values(by='support', ascending=True).head()"
   ],
   "metadata": {
    "collapsed": false,
    "pycharm": {
     "name": "#%%\n",
     "is_executing": false
    }
   }
  },
  {
   "cell_type": "code",
   "execution_count": 7,
   "outputs": [
    {
     "name": "stdout",
     "text": [
      "<class 'pandas.core.frame.DataFrame'>\n"
     ],
     "output_type": "stream"
    }
   ],
   "source": [
    "print(type(conf))"
   ],
   "metadata": {
    "collapsed": false,
    "pycharm": {
     "name": "#%%\n",
     "is_executing": false
    }
   }
  }
 ],
 "metadata": {
  "kernelspec": {
   "name": "pycharm-d2e8c901",
   "language": "python",
   "display_name": "PyCharm (My_lab)"
  },
  "language_info": {
   "codemirror_mode": {
    "name": "ipython",
    "version": 2
   },
   "file_extension": ".py",
   "mimetype": "text/x-python",
   "name": "python",
   "nbconvert_exporter": "python",
   "pygments_lexer": "ipython2",
   "version": "2.7.6"
  },
  "pycharm": {
   "stem_cell": {
    "cell_type": "raw",
    "source": [],
    "metadata": {
     "collapsed": false
    }
   }
  }
 },
 "nbformat": 4,
 "nbformat_minor": 0
}